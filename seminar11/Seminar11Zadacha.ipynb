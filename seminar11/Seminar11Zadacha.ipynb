{
 "cells": [
  {
   "cell_type": "markdown",
   "id": "04bb0886",
   "metadata": {},
   "source": [
    "# Домашняя Работа !!\n",
    "# Работаем только с файлом california_housing_test.csv \n",
    "1)Прочесть с помощью pandas файл california_housing_test.csv \n",
    "\n",
    "2)Посмотреть сколько в нем строк и столбцов\n",
    "\n",
    "3)Определить какой тип данных имеют столбцы\n",
    "\n",
    "4)Показать longitude где housing_median_age < 35\n",
    "\n",
    "5)Показать столбцы longitude и latitude\n",
    "\n",
    "6)Выбрать данные где total_rooms < 2000 и population > 1500\n",
    "  \n",
    "7)Определить какое максимальное и минимальное значение **population**\n",
    "\n",
    "8)(Доп) Показать максимальное **longitude**, где **median_income** > 3\n",
    "\n",
    "9)(Доп) Узнать какая максимальная **total_bedrooms** при минимальном значении **households**\n",
    "\n",
    "\n"
   ]
  },
  {
   "cell_type": "code",
   "execution_count": null,
   "id": "6de790e4",
   "metadata": {},
   "outputs": [],
   "source": [
    "# Библиотека для работы с табличными данными\n",
    "import pandas as pd"
   ]
  },
  {
   "cell_type": "markdown",
   "id": "4289d042",
   "metadata": {},
   "source": [
    "1)Прочесть с помощью pandas файл california_housing_test.csv"
   ]
  },
  {
   "cell_type": "code",
   "execution_count": null,
   "id": "e465b97b",
   "metadata": {},
   "outputs": [],
   "source": [
    "# Прочтём файл .csv с помощью библиотеки pandas\n",
    "df = pd.read_csv('california_housing_test.csv')"
   ]
  },
  {
   "cell_type": "markdown",
   "id": "3c2ccc7a",
   "metadata": {},
   "source": [
    "2)Посмотреть сколько в нем строк и столбцов"
   ]
  },
  {
   "cell_type": "code",
   "execution_count": null,
   "id": "2e43fde4",
   "metadata": {},
   "outputs": [],
   "source": [
    "# Возвращает размеры таблицы: кортеж из 2 значений, 1 кол-во строк, 2 - кол-во столбцов\n",
    "df.shape"
   ]
  },
  {
   "cell_type": "markdown",
   "id": "f990caa3",
   "metadata": {},
   "source": [
    "3)Определить какой тип данных имеют столбцы"
   ]
  },
  {
   "cell_type": "code",
   "execution_count": null,
   "id": "fc0441b7",
   "metadata": {},
   "outputs": [],
   "source": [
    "# Проверить тип данных в столбцах\n",
    "# В данных случаях везде float, число 64 указывает на разрядность(Используется 64 байта для хранения значения в памяти,\n",
    "# чем меньше разрядность, тем меньший диапазон могут принимать числа и тем меньше тратится памяти на хранение.\n",
    "df.dtypes"
   ]
  },
  {
   "cell_type": "markdown",
   "id": "802e54a9",
   "metadata": {},
   "source": [
    "4)Показать longitude где housing_median_age < 35"
   ]
  },
  {
   "cell_type": "code",
   "execution_count": null,
   "id": "156576b6",
   "metadata": {},
   "outputs": [],
   "source": [
    "# Выбор определенного кол-ва рядов\n",
    "# Синтаксис df[df[col] !=|==|>|<| значение]\n",
    "df.loc[df['housing_median_age'] < 35, ['longitude']]"
   ]
  },
  {
   "cell_type": "markdown",
   "id": "9b684fb9",
   "metadata": {},
   "source": [
    "5)Показать столбцы longitude и latitude"
   ]
  },
  {
   "cell_type": "code",
   "execution_count": null,
   "id": "76a609ab",
   "metadata": {},
   "outputs": [],
   "source": [
    "# Выбор нескольких столбцов [долгота, широта]\n",
    "df[['longitude', 'latitude']]"
   ]
  },
  {
   "cell_type": "markdown",
   "id": "b87844ba",
   "metadata": {},
   "source": [
    "6)Выбрать данные где total_rooms < 2000 и population > 1500"
   ]
  },
  {
   "cell_type": "code",
   "execution_count": null,
   "id": "8fc77646",
   "metadata": {},
   "outputs": [],
   "source": [
    "# Для отбора можно использовать несколько условий одновременно\n",
    "# Знак & означает 'and', а знак | 'or'\n",
    "df[(df['total_rooms'] < 2000) & (df['population'] > 00)]"
   ]
  },
  {
   "cell_type": "markdown",
   "id": "09ea0131",
   "metadata": {},
   "source": [
    "7)Определить какое максимальное и минимальное значение population"
   ]
  },
  {
   "cell_type": "code",
   "execution_count": null,
   "id": "cfcbd5ae",
   "metadata": {},
   "outputs": [],
   "source": [
    "# Максимальное значение\n",
    "print(df['population'].max())\n",
    "# Минимальное значение\n",
    "print(df['population'].min())"
   ]
  },
  {
   "cell_type": "markdown",
   "id": "5b364a34",
   "metadata": {},
   "source": [
    "8)(Доп) Показать максимальное longitude, где median_income > 3"
   ]
  },
  {
   "cell_type": "markdown",
   "id": "2274a8f3",
   "metadata": {},
   "source": [
    "---\n",
    "\n",
    "Для отбора можно использовать несколько условий одновременно\n",
    "\n",
    "Знак & означает 'and', а знак | 'or'\n",
    "\n",
    "---\n",
    "\n",
    "Выбор определенного кол-ва рядов\n",
    "\n",
    "Синтаксис df[df[col] !=|==|>|<| значение]\n",
    "\n",
    "---"
   ]
  },
  {
   "cell_type": "code",
   "execution_count": null,
   "id": "b453f9d7",
   "metadata": {},
   "outputs": [],
   "source": [
    "df.loc[(df['median_income'] > 3), ['longitude']].max()"
   ]
  },
  {
   "cell_type": "markdown",
   "id": "51f3db7a",
   "metadata": {},
   "source": [
    "9)(Доп) Узнать какая максимальная total_bedrooms при минимальном значении households"
   ]
  },
  {
   "cell_type": "code",
   "execution_count": null,
   "id": "40e76958",
   "metadata": {},
   "outputs": [],
   "source": [
    "df.loc[(df['households'].min()), ['total_bedrooms']].max()"
   ]
  }
 ],
 "metadata": {
  "kernelspec": {
   "display_name": "Python 3",
   "language": "python",
   "name": "python3"
  },
  "language_info": {
   "codemirror_mode": {
    "name": "ipython",
    "version": 3
   },
   "file_extension": ".py",
   "mimetype": "text/x-python",
   "name": "python",
   "nbconvert_exporter": "python",
   "pygments_lexer": "ipython3",
   "version": "3.10.9"
  },
  "vscode": {
   "interpreter": {
    "hash": "aeb56f9029f2e176d7a5d5b5978714e3a8dcde9e57e65468f9903ccbd404aa2e"
   }
  }
 },
 "nbformat": 4,
 "nbformat_minor": 5
}
